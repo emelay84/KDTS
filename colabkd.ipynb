{
  "nbformat": 4,
  "nbformat_minor": 0,
  "metadata": {
    "colab": {
      "name": "Untitled6.ipynb",
      "provenance": [],
      "collapsed_sections": [],
      "authorship_tag": "ABX9TyPYIbcugQWVwsdY/EQ2VmSu",
      "include_colab_link": true
    },
    "kernelspec": {
      "name": "python3",
      "display_name": "Python 3"
    },
    "language_info": {
      "name": "python"
    }
  },
  "cells": [
    {
      "cell_type": "markdown",
      "metadata": {
        "id": "view-in-github",
        "colab_type": "text"
      },
      "source": [
        "<a href=\"https://colab.research.google.com/github/emelay84/KDTS/blob/main/colabkd.ipynb\" target=\"_parent\"><img src=\"https://colab.research.google.com/assets/colab-badge.svg\" alt=\"Open In Colab\"/></a>"
      ]
    },
    {
      "cell_type": "code",
      "metadata": {
        "colab": {
          "base_uri": "https://localhost:8080/"
        },
        "id": "THJ14wYkl_RF",
        "outputId": "47a3d9c7-c9ee-446d-f846-0cc56b54ec61"
      },
      "source": [
        "from google.colab import drive\n",
        "drive.mount('/content/drive')"
      ],
      "execution_count": 4,
      "outputs": [
        {
          "output_type": "stream",
          "text": [
            "Mounted at /content/drive\n"
          ],
          "name": "stdout"
        }
      ]
    },
    {
      "cell_type": "code",
      "metadata": {
        "colab": {
          "base_uri": "https://localhost:8080/"
        },
        "id": "L8SkHWFQ6aFm",
        "outputId": "ad48ffc4-ddf2-4863-990f-a6eb208f94d9"
      },
      "source": [
        "!git config --global user.name \"emelay84\"\n",
        "!git config --global user.email \"emel.ay84@gmail.com\"\n",
        "!git branch -a\n",
        "!git clone https://github.com/emelay84/KDTS.git\n",
        "\n",
        "#!git checkout -b brancheTest\n",
        "#!git add .\n",
        "#!git commit -m \"initial commit\"\n",
        "#!git pull\n",
        "#!git push"
      ],
      "execution_count": 62,
      "outputs": [
        {
          "output_type": "stream",
          "text": [
            "* \u001b[32mbrancheTest\u001b[m\n",
            "  main\u001b[m\n",
            "  \u001b[31mremotes/origin/HEAD\u001b[m -> origin/main\n",
            "  \u001b[31mremotes/origin/main\u001b[m\n",
            "Cloning into 'KDTS'...\n",
            "remote: Enumerating objects: 120, done.\u001b[K\n",
            "remote: Counting objects: 100% (120/120), done.\u001b[K\n",
            "remote: Compressing objects: 100% (116/116), done.\u001b[K\n",
            "remote: Total 120 (delta 54), reused 0 (delta 0), pack-reused 0\u001b[K\n",
            "Receiving objects: 100% (120/120), 652.18 KiB | 8.58 MiB/s, done.\n",
            "Resolving deltas: 100% (54/54), done.\n"
          ],
          "name": "stdout"
        }
      ]
    },
    {
      "cell_type": "code",
      "metadata": {
        "colab": {
          "base_uri": "https://localhost:8080/"
        },
        "id": "0_KcSofyl21N",
        "outputId": "31a94f85-a07b-4956-bed3-d8099ddb46dc"
      },
      "source": [
        "!git clone https://github.com/emelay84/KDTS.git\n",
        "cd /content/KDTS\n",
        "!rm -r /content/drive/MyDrive/results/student/UCRArchive_2018_itr_1\n",
        "#!rm -r /content/drive/MyDrive/results/fcn/UCRArchive_2018_itr_1\n",
        "!python3 main.py UCRArchive_2018 Coffee fcn _itr_1\n",
        "!python3 main.py UCRArchive_2018 Coffee student _itr_1\n",
        "#!python3 main.py UCRArchive_2018 FordA fcn _itr_1"
      ],
      "execution_count": 72,
      "outputs": [
        {
          "output_type": "stream",
          "text": [
            "Method:  UCRArchive_2018 Coffee fcn _itr_1\n",
            "Already done\n",
            "Method:  UCRArchive_2018 Coffee student _itr_1\n",
            "2021-05-23 17:36:00.110188: I tensorflow/stream_executor/platform/default/dso_loader.cc:49] Successfully opened dynamic library libcudart.so.11.0\n",
            "2021-05-23 17:36:01.746160: I tensorflow/compiler/jit/xla_cpu_device.cc:41] Not creating XLA devices, tf_xla_enable_xla_devices not set\n",
            "2021-05-23 17:36:01.747214: I tensorflow/stream_executor/platform/default/dso_loader.cc:49] Successfully opened dynamic library libcuda.so.1\n",
            "2021-05-23 17:36:01.758640: E tensorflow/stream_executor/cuda/cuda_driver.cc:328] failed call to cuInit: CUDA_ERROR_NO_DEVICE: no CUDA-capable device is detected\n",
            "2021-05-23 17:36:01.758708: I tensorflow/stream_executor/cuda/cuda_diagnostics.cc:156] kernel driver does not appear to be running on this host (940aee79804b): /proc/driver/nvidia/version does not exist\n",
            "2021-05-23 17:36:01.759253: I tensorflow/compiler/jit/xla_gpu_device.cc:99] Not creating XLA devices, tf_xla_enable_xla_devices not set\n",
            "Traceback (most recent call last):\n",
            "  File \"main.py\", line 159, in <module>\n",
            "    fit_classifier()\n",
            "  File \"main.py\", line 42, in fit_classifier\n",
            "    classifier = create_classifier(classifier_name, input_shape, nb_classes, output_directory)\n",
            "  File \"main.py\", line 50, in create_classifier\n",
            "    return student.Classifier_STUDENT(output_directory, input_shape, nb_classes, verbose)\n",
            "  File \"/content/KDTS/classifiers/student.py\", line 109, in __init__\n",
            "    self.model = self.build_model(input_shape, nb_classes)\n",
            "  File \"/content/KDTS/classifiers/student.py\", line 151, in build_model\n",
            "    teacher = keras.models.load_model(self.output_directory+'best_model.hdf5')\n",
            "  File \"/usr/local/lib/python3.7/dist-packages/tensorflow/python/keras/saving/save.py\", line 211, in load_model\n",
            "    loader_impl.parse_saved_model(filepath)\n",
            "  File \"/usr/local/lib/python3.7/dist-packages/tensorflow/python/saved_model/loader_impl.py\", line 114, in parse_saved_model\n",
            "    constants.SAVED_MODEL_FILENAME_PB))\n",
            "OSError: SavedModel file does not exist at: /content/drive/MyDrive/results/student/UCRArchive_2018_itr_1/Coffee/best_model.hdf5/{saved_model.pbtxt|saved_model.pb}\n"
          ],
          "name": "stdout"
        }
      ]
    }
  ]
}