{
  "nbformat": 4,
  "nbformat_minor": 0,
  "metadata": {
    "colab": {
      "name": "Untitled6.ipynb",
      "provenance": [],
      "collapsed_sections": [],
      "authorship_tag": "ABX9TyNv5apwfndvN9r22/JZpQa4",
      "include_colab_link": true
    },
    "kernelspec": {
      "name": "python3",
      "display_name": "Python 3"
    },
    "language_info": {
      "name": "python"
    }
  },
  "cells": [
    {
      "cell_type": "markdown",
      "metadata": {
        "id": "view-in-github",
        "colab_type": "text"
      },
      "source": [
        "<a href=\"https://colab.research.google.com/github/emelay84/KDTS/blob/main/Untitled6.ipynb\" target=\"_parent\"><img src=\"https://colab.research.google.com/assets/colab-badge.svg\" alt=\"Open In Colab\"/></a>"
      ]
    },
    {
      "cell_type": "code",
      "metadata": {
        "colab": {
          "base_uri": "https://localhost:8080/"
        },
        "id": "JtOKB-oSloWd",
        "outputId": "1062abcb-af39-4f18-995f-3687a032e2f2"
      },
      "source": [
        "!git clone https://github.com/emelay84/KDTS.git"
      ],
      "execution_count": 1,
      "outputs": [
        {
          "output_type": "stream",
          "text": [
            "Cloning into 'KDTS'...\n",
            "remote: Enumerating objects: 88, done.\u001b[K\n",
            "remote: Counting objects: 100% (88/88), done.\u001b[K\n",
            "remote: Compressing objects: 100% (84/84), done.\u001b[K\n",
            "remote: Total 88 (delta 35), reused 0 (delta 0), pack-reused 0\u001b[K\n",
            "Unpacking objects: 100% (88/88), done.\n"
          ],
          "name": "stdout"
        }
      ]
    },
    {
      "cell_type": "code",
      "metadata": {
        "colab": {
          "base_uri": "https://localhost:8080/"
        },
        "id": "THJ14wYkl_RF",
        "outputId": "47a3d9c7-c9ee-446d-f846-0cc56b54ec61"
      },
      "source": [
        "from google.colab import drive\n",
        "drive.mount('/content/drive')"
      ],
      "execution_count": 4,
      "outputs": [
        {
          "output_type": "stream",
          "text": [
            "Mounted at /content/drive\n"
          ],
          "name": "stdout"
        }
      ]
    },
    {
      "cell_type": "code",
      "metadata": {
        "colab": {
          "base_uri": "https://localhost:8080/"
        },
        "id": "REFAXFD-luUF",
        "outputId": "c462395f-2e32-4be8-e2ba-45f993e1122c"
      },
      "source": [
        "cd /content/KDTS"
      ],
      "execution_count": 2,
      "outputs": [
        {
          "output_type": "stream",
          "text": [
            "/content/KDTS\n"
          ],
          "name": "stdout"
        }
      ]
    },
    {
      "cell_type": "code",
      "metadata": {
        "colab": {
          "base_uri": "https://localhost:8080/"
        },
        "id": "0_KcSofyl21N",
        "outputId": "4714b727-5841-4de9-eadd-82d2fd7ec48a"
      },
      "source": [
        "!rm -r /content/drive/MyDrive/results/studentAlone/UCRArchive_2018_itr_1\n",
        "#!rm -r /content/drive/MyDrive/results/fcn/UCRArchive_2018_itr_1\n",
        "!python3 main.py UCRArchive_2018 FordA student UCRArchive_2018_itr_1\n",
        "#!python3 main.py UCRArchive_2018 FordA fcn _itr_1"
      ],
      "execution_count": 38,
      "outputs": [
        {
          "output_type": "stream",
          "text": [
            "rm: cannot remove '/content/drive/MyDrive/results/studentAlone/UCRArchive_2018_itr_1': No such file or directory\n",
            "Method:  UCRArchive_2018 FordA student UCRArchive_2018_itr_1\n",
            "2021-05-23 15:14:15.610424: I tensorflow/stream_executor/platform/default/dso_loader.cc:49] Successfully opened dynamic library libcudart.so.11.0\n",
            "Traceback (most recent call last):\n",
            "  File \"main.py\", line 159, in <module>\n",
            "    fit_classifier()\n",
            "  File \"main.py\", line 42, in fit_classifier\n",
            "    classifier = create_classifier(classifier_name, input_shape, nb_classes, output_directory)\n",
            "  File \"main.py\", line 49, in create_classifier\n",
            "    from classifiers import student\n",
            "  File \"/content/KDTS/classifiers/student.py\", line 11, in <module>\n",
            "    from distiller import Distiller\n",
            "ModuleNotFoundError: No module named 'distiller'\n"
          ],
          "name": "stdout"
        }
      ]
    }
  ]
}